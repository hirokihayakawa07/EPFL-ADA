{
 "cells": [
  {
   "cell_type": "markdown",
   "metadata": {
    "colab_type": "text",
    "id": "l3ZEgl7t28Ee"
   },
   "source": [
    "# Homework 1\n",
    "## Introduction\n",
    "### Important dates\n",
    "* Homework release: Thursday, 3rd October 2019\n",
    "* **Homework due**: Wednesday, 16th October 2019 (23:59 hours, 11:59 PM)\n",
    "* Peer review due: Wednesday, 23rd October 2019 (23:59 hours, 11:59 PM)\n",
    "* Grading release: Wednesday, 30th October 2019\n",
    "\n",
    "### Description\n",
    "\n",
    "The data you'll be working with comes from multiple sources. The main data source will be [DBLP](https://dblp.uni-trier.de/), a database of publications from major computer science journals and conferences. A subset of DBLP, which you will use in this assignment, is provided to you via a [google drive folder](https://drive.google.com/file/d/1Kci8joML74tCSzuBbhxtd1ylR4f0dlm6/view). Later on, you will enrich the DBLP data with a dataset on conference rankings and with the proceedings of the [NIPS conference](https://nips.cc/) [1] ('proceedings' is another word for the set of papers published at an academic conference). After loading and cleaning the data, you will answer various questions about its contents.\n",
    "\n",
    "**Some rules:**\n",
    "- You are allowed to use any built-in Python library that comes with Anaconda. If you want to use an external library, you have to justify your choice.\n",
    "- Make sure you use the data folder provided in the repository in *read-only* mode.\n",
    "- Be sure to provide explanations for your answers. A notebook that only has code cells will not suffice.\n",
    "- Also, be sure to *hand in a fully-run and evaluated notebook*. We will not run your notebook for you, we will grade it as is, which means that only the results contained in your evaluated code cells will be considered, and we will not see the results in unevaluated code cells. In order to check whether everything looks as intended, you can check the rendered notebook on the GitHub website once you have pushed your solution there.\n",
    "\n",
    "[1] Note that NIPS was renamed to NeurIPS in 2018, but for simplicity, whenever we say 'NIPS', we really mean 'NIPS and NeurIPS'."
   ]
  },
  {
   "cell_type": "markdown",
   "metadata": {
    "colab_type": "text",
    "id": "A0IIdWOs48BB"
   },
   "source": [
    "## Task A. Getting a sense of the dataset\n",
    "\n",
    "### A1. Loading the data\n",
    "Download the DBLP dataset (available on [google drive](https://drive.google.com/file/d/1Kci8joML74tCSzuBbhxtd1ylR4f0dlm6/view)) and load it into a Pandas dataframe. A row of your dataframe should look as follows:\n",
    "\n",
    "| paper id | author names | publication year | paper title | \n",
    "| :----:|:-------------:| :-----:|:-----:|\n",
    "| conf/nips/doe1036 | [John Doe, Jane Doe] | 2003 | Some Catchy Title: An Expanded and Boring Title | \n",
    "\n",
    "\n",
    "1. Filter the papers: keep only conference papers. For each of the remaining ones, find the acronym of the conference where it was published. Retain only those papers that have been published in the conferences listed in `data/list_of_ai_conferences.txt`. Additionally, add a column named 'conference' to your dataframe.   \n",
    "_Hint: The `paper id` tells you whether a paper was published at a conference, and if so, at which one._\n",
    "\n",
    "2. Report the overall number of papers in the filtered dataset, as well as the number of papers per conference."
   ]
  },
  {
   "cell_type": "code",
   "execution_count": 1,
   "metadata": {
    "colab": {},
    "colab_type": "code",
    "id": "ara6mLe1l_CQ"
   },
   "outputs": [],
   "source": [
    "%matplotlib inline\n",
    "import pandas as pd\n",
    "import numpy as np\n",
    "import re\n",
    "from matplotlib.ticker import MaxNLocator\n",
    "import matplotlib.pyplot as plt\n",
    "from requests import get\n",
    "from bs4 import BeautifulSoup"
   ]
  },
  {
   "cell_type": "code",
   "execution_count": 2,
   "metadata": {},
   "outputs": [
    {
     "name": "stderr",
     "output_type": "stream",
     "text": [
      "/mnt/c/linux_home/anaconda3/lib/python3.7/site-packages/ipykernel_launcher.py:1: ParserWarning: Falling back to the 'python' engine because the 'c' engine does not support regex separators (separators > 1 char and different from '\\s+' are interpreted as regex); you can avoid this warning by specifying engine='python'.\n",
      "  \"\"\"Entry point for launching an IPython kernel.\n"
     ]
    },
    {
     "name": "stdout",
     "output_type": "stream",
     "text": [
      "conference\n",
      "aaai      10796\n",
      "aamas       367\n",
      "accv       2390\n",
      "acl        6330\n",
      "cvpr      12853\n",
      "emnlp      3299\n",
      "fgr        1383\n",
      "icann      3134\n",
      "iccbr       863\n",
      "iccv       4179\n",
      "icml       5017\n",
      "iconip     4985\n",
      "icra      21585\n",
      "ida         712\n",
      "ijcai      9669\n",
      "ilp         679\n",
      "ksem        635\n",
      "naacl      3310\n",
      "nips       8445\n",
      "pricai     1372\n",
      "dtype: int64\n",
      "total = 102003 papers\n"
     ]
    }
   ],
   "source": [
    "papers = pd.read_csv('data/dblp.tsv', delimiter='\\\\t')\n",
    "conf_data = open('data/list_of_ai_conferences.txt','r')\n",
    "conf_lines = conf_data.read().splitlines()\n",
    "papers_conf = papers[papers['id'].str.startswith('conf')]\n",
    "papers_conf2 = pd.concat([papers_conf, papers_conf['id'].str.split('/',expand=True)],axis=1).drop([0,2],axis=1).rename(columns={1:'conference'})\n",
    "papers_list = papers_conf2[papers_conf2['conference'].isin(conf_lines)]\n",
    "print(papers_list.groupby(papers_list['conference']).size())\n",
    "print('total =',len(papers_list), 'papers')"
   ]
  },
  {
   "cell_type": "markdown",
   "metadata": {
    "colab_type": "text",
    "id": "mnE6N9zXl-yz"
   },
   "source": [
    "### A2. An author-centric look\n",
    "The dataframe you created above was a paper-centric one. Now, we want you to create a new dataframe centered around authors. Do this by expanding the author names in the lists in the 2nd column into separate rows. That is, if a paper has 3 authors, turn that row into 3 rows, each of which only contains one of the author names (along with the rest of the paper information, i.e., title, conference and year). Keep both dataframes, we are going to need both of them.    \n",
    "**Report the number of unique authors.**"
   ]
  },
  {
   "cell_type": "code",
   "execution_count": 3,
   "metadata": {},
   "outputs": [
    {
     "name": "stdout",
     "output_type": "stream",
     "text": [
      "[\"'Yoshinori Kuno'\" \" 'Yasukazu Okamoto'\" \" 'Satoshi Okada'\" ...\n",
      " \"'Johannes Hellrich'\" \" 'Thomas Lin'\" \"'Catalina Barbu'\"]\n",
      "129608\n"
     ]
    }
   ],
   "source": [
    "''' Add your code here'''\n",
    "p_authors = papers_list.copy()\n",
    "p_authors['authors'] = p_authors['authors'].str.strip('[').str.strip(']')\n",
    "p_authors2 = pd.concat([p_authors, p_authors['authors'].str.split(',',expand=True)],axis=1).drop(['authors'],axis=1)\n",
    "p_authors3 = p_authors2.iloc[:,4:].stack().str.strip('\"').str.strip('[').str.strip(']')\n",
    "# p_authors3.replace('', np.nan, inplace=True)\n",
    "# p_authors3.dropna().nunique()\n",
    "print(p_authors3.unique())\n",
    "print(p_authors3.nunique())"
   ]
  },
  {
   "cell_type": "code",
   "execution_count": 4,
   "metadata": {},
   "outputs": [],
   "source": [
    "# p_authors3.shape[0]\n",
    "# papers_list.shape[0]\n",
    "# p_authors2.head()"
   ]
  },
  {
   "cell_type": "markdown",
   "metadata": {
    "colab_type": "text",
    "id": "8ZiuGiDsl60f"
   },
   "source": [
    "### A3. Is your data analysis-friendly?\n",
    "\n",
    "Using an appropriate view of your data (paper-centric or author-centric), solve the following tasks:\n",
    "\n",
    "1. Plot the number of papers per author and analyze it. Do you observe any outliers? Can you identify the source of the problem? Please elaborate!   \n",
    "_Hint: To find out where the problem comes from, try performing an analysis at the conference or year level._   \n",
    "Make sure you remove this inconsistency from your dataframe before moving to the next step, and also create a new plot of the number of papers per author after fixing the problem.   \n",
    "\n",
    "2. Plot the number of papers per year. Do you observe any inconsistency in the output? Real-world data is usually messy, with typos, erroneous entries, and sometimes issues that make even loading the data problematic. Fix any errors that you encounter along the way, find ways to clean the attribute `year`, and redo the plot of the number of papers per year.   \n",
    "\n",
    "3. Machine learning (ML) has been one of the hottest topics within the broader area of AI recently, so let’s see if this is reflected in the number of ML publications. In particular, let’s focus on the two major ML conferences, NIPS and ICML: make a new dataframe with only NIPS and ICML papers (let’s call these the “ML papers”), plot the number of ML papers over time, and analyze and discuss the plot. Do you observe anything odd in this plot? What causes these problems?   \n",
    "_Hint: Try to perform an analysis at the conference or year level._   \n",
    "\n",
    "4. By now, you may have noticed that some conferences are not fully represented in the DBLP dataset. Complete the paper-centric dataframe by scraping the full NIPS data from the online proceedings at https://papers.nips.cc/ (maintain the same schema used in your previous dataframes, but fill in missing values). After this step, remove any remaining papers that have missing values. Redo the plots of steps A3.2 and A3.3 after fixing the issue.   \n",
    "\n",
    "_Note: In order to avoid re-running the cleaning part of the notebook every time, you could save the results at this point as a pickle file! Also, propagating your cleaning to both dataframes might prove useful later on._"
   ]
  },
  {
   "cell_type": "markdown",
   "metadata": {},
   "source": [
    "***A3.1***"
   ]
  },
  {
   "cell_type": "code",
   "execution_count": 5,
   "metadata": {
    "colab": {},
    "colab_type": "code",
    "id": "co_yXyk2TzHo",
    "scrolled": true
   },
   "outputs": [
    {
     "name": "stdout",
     "output_type": "stream",
     "text": [
      " 'Luc Van Gool'              216\n",
      " 'Thomas S. Huang'           185\n",
      " 'Toshio Fukuda'             163\n",
      " 'Michael I. Jordan'         162\n",
      " 'Xiaoou Tang'               147\n",
      " 'Shuicheng Yan'             146\n",
      " 'Takeo Kanade'              145\n",
      " 'Larry S. Davis'            142\n",
      " 'Trevor Darrell'            142\n",
      " 'Vijay Kumar 0001'          141\n",
      " 'Roland Siegwart'           137\n",
      " 'Wolfram Burgard'           136\n",
      " 'Christopher D. Manning'    133\n",
      " 'Andrew Zisserman'          132\n",
      " 'Eric P. Xing'              131\n",
      " 'Marc Pollefeys'            130\n",
      " 'Martial Hebert'            129\n",
      " 'Dan Roth'                  129\n",
      " 'Dan Klein'                 123\n",
      " 'Bernhard Schölkopf'        123\n",
      " 'Lawrence Carin'            118\n",
      " 'Rama Chellappa'            117\n",
      " 'Dacheng Tao'               115\n",
      " 'Ming-Hsuan Yang 0001'      115\n",
      " 'Noah A. Smith'             114\n",
      " 'Xilin Chen'                112\n",
      " 'Daniela Rus'               111\n",
      " 'Mubarak Shah'              111\n",
      " 'Jitendra Malik'            111\n",
      " 'Zhi-Hua Zhou'              110\n",
      "                            ... \n",
      "'Abduelbaset Goweder'          1\n",
      "'Abdul A. Yumaryanto'          1\n",
      "'Abdul Aziz'                   1\n",
      "'Abdul Bais'                   1\n",
      "'Abdul Haq'                    1\n",
      "'AbdelHafid El Hadri'          1\n",
      "'Abdel Rodríguez'              1\n",
      "'Abdalrahman Eweiwi'           1\n",
      "'Abba Krieger'                 1\n",
      "'Aaron Strauss'                1\n",
      "'Aaron T. Becker'              1\n",
      "'Aaron Wolin'                  1\n",
      "'Aarti Gupta'                  1\n",
      "'Aarti Malhotra'               1\n",
      "'Aarti Singh'                  1\n",
      "'Aastha Jain'                  1\n",
      "'Aayush Bansal'                1\n",
      "'Aayush Sharma'                1\n",
      "'Abbas Edalat'                 1\n",
      "'Abdallah Yousif'              1\n",
      "'Abbas Ehsanfar'               1\n",
      "'Abbas Kazerouni'              1\n",
      "'Abbas Rafii'                  1\n",
      "'Abbas Shahzadeh'              1\n",
      "'Abbas Vafaeesefa'             1\n",
      "'Abby Stylianou'               1\n",
      "'AbdElMoniem Bayoumi'          1\n",
      "'Abdalghani Abujabal'          1\n",
      "'Abdallah Kassir'              1\n",
      " 'Tim Welschehold'             1\n",
      "Length: 129605, dtype: int64\n"
     ]
    },
    {
     "data": {
      "text/plain": [
       "{'whiskers': [<matplotlib.lines.Line2D at 0x7f341e0ce4e0>,\n",
       "  <matplotlib.lines.Line2D at 0x7f341e0ce2e8>],\n",
       " 'caps': [<matplotlib.lines.Line2D at 0x7f341e0cb860>,\n",
       "  <matplotlib.lines.Line2D at 0x7f341e0cb160>],\n",
       " 'boxes': [<matplotlib.lines.Line2D at 0x7f341e0ced68>],\n",
       " 'medians': [<matplotlib.lines.Line2D at 0x7f341e0cb240>],\n",
       " 'fliers': [<matplotlib.lines.Line2D at 0x7f341e0c84e0>],\n",
       " 'means': []}"
      ]
     },
     "execution_count": 5,
     "metadata": {},
     "output_type": "execute_result"
    },
    {
     "data": {
      "image/png": "[encoded data removed]",
      "text/plain": [
       "<Figure size 432x288 with 1 Axes>"
      ]
     },
     "metadata": {
      "needs_background": "light"
     },
     "output_type": "display_data"
    }
   ],
   "source": [
    "''' Add your code here '''\n",
    "# p_a31 = p_authors3.copy()\n",
    "# p_a312 = p_a31.groupby(p_a31).count()\n",
    "# print(p_a312.sort_values(ascending=False))\n",
    "# plt.boxplot(p_a312)\n",
    "\n",
    "# Exclude outliers\n",
    "p_a313 = p_authors2.copy().iloc[:,4:].stack().str.strip('\"').str.strip('[').str.strip(']')\n",
    "p_a313.replace('', np.nan, inplace=True)\n",
    "p_a313.dropna()\n",
    "p_a313 = p_a313.groupby(p_a313).count()\n",
    "p_a314 = p_a313[p_a313 < 300]\n",
    "print(p_a314.sort_values(ascending=False))\n",
    "plt.boxplot(p_a314)"
   ]
  },
  {
   "cell_type": "markdown",
   "metadata": {},
   "source": [
    "***A3.2***"
   ]
  },
  {
   "cell_type": "code",
   "execution_count": 6,
   "metadata": {
    "scrolled": true
   },
   "outputs": [
    {
     "name": "stdout",
     "output_type": "stream",
     "text": [
      "year    \n",
      "2018  id    8936\n",
      "2017  id    7213\n",
      "2015  id    6134\n",
      "2016  id    5975\n",
      "2013  id    4941\n",
      "2014  id    4540\n",
      "2012  id    4462\n",
      "2011  id    4360\n",
      "2007  id    4336\n",
      "2009  id    3800\n",
      "2010  id    3752\n",
      "2006  id    3656\n",
      "2005  id    3438\n",
      "2008  id    3342\n",
      "2004  id    2681\n",
      "2003  id    2459\n",
      "1998  id    2390\n",
      "2001  id    2235\n",
      "1997  id    2212\n",
      "2000  id    1815\n",
      "1999  id    1815\n",
      "2002  id    1727\n",
      "1996  id    1682\n",
      "1993  id    1496\n",
      "1995  id    1402\n",
      "1994  id    1368\n",
      "1991  id    1364\n",
      "1992  id    1078\n",
      "1989  id    1050\n",
      "1990  id     974\n",
      "1988  id     894\n",
      "1987  id     850\n",
      "?     id     634\n",
      "1986  id     583\n",
      "1985  id     472\n",
      "1983  id     391\n",
      "1981  id     257\n",
      "1979  id     256\n",
      "1977  id     236\n",
      "1975  id     149\n",
      "1984  id     145\n",
      "1982  id     145\n",
      "1980  id     141\n",
      "1973  id      86\n",
      "1971  id      67\n",
      "1969  id      64\n",
      "dtype: int64\n"
     ]
    },
    {
     "data": {
      "text/plain": [
       "{'whiskers': [<matplotlib.lines.Line2D at 0x7f341e0f2630>,\n",
       "  <matplotlib.lines.Line2D at 0x7f341e0f2320>],\n",
       " 'caps': [<matplotlib.lines.Line2D at 0x7f341e0f0978>,\n",
       "  <matplotlib.lines.Line2D at 0x7f341e0f0278>],\n",
       " 'boxes': [<matplotlib.lines.Line2D at 0x7f341e0f2ef0>],\n",
       " 'medians': [<matplotlib.lines.Line2D at 0x7f341e0f0080>],\n",
       " 'fliers': [<matplotlib.lines.Line2D at 0x7f341e16e5f8>],\n",
       " 'means': []}"
      ]
     },
     "execution_count": 6,
     "metadata": {},
     "output_type": "execute_result"
    },
    {
     "data": {
      "image/png": "[encoded data removed]",
      "text/plain": [
       "<Figure size 432x288 with 1 Axes>"
      ]
     },
     "metadata": {
      "needs_background": "light"
     },
     "output_type": "display_data"
    }
   ],
   "source": [
    "''' Add your code here '''\n",
    "p_a32 = papers_list.copy()\n",
    "p_a32 = p_a32.groupby('year').count()\n",
    "p_a322 = p_a32.iloc[:,:1].stack()\n",
    "# print(p_a322.sort_values(ascending=False))\n",
    "# plt.bar(p_a32.index,p_a32.title)\n",
    "# plt.boxplot(p_a32)\n",
    "# inconsistency: description of years, e.g. 2018, 2018.0, 18, <i>2018<-i>\n",
    "\n",
    "p_a323 = papers_list.copy()\n",
    "n = np.arange(0,19)\n",
    "n_str = [str(18-i).zfill(2) for i in n]\n",
    "for yy in n_str:\n",
    "    p_a323.loc[p_a323['year'].str.contains(yy)==True, 'year'] = yy\n",
    "for yy in n_str:\n",
    "    p_a323.loc[p_a323['year'].str.startswith(yy)==True, 'year'] = '20'+yy\n",
    "n = np.arange(69,100)\n",
    "n_str2 = [str(i) for i in n]\n",
    "for yy in n_str2:\n",
    "    p_a323.loc[p_a323['year'].str.contains(yy)==True, 'year'] = yy\n",
    "for yy in n_str2:\n",
    "    p_a323.loc[p_a323['year'].str.startswith(yy)==True, 'year'] = '19'+yy\n",
    "p_a323.loc[p_a323['year'].str.contains('<')==True, 'year'] = '?'\n",
    "p_a324 = p_a323.groupby('year').count()\n",
    "p_a325 = p_a324.iloc[:,:1].stack()\n",
    "print(p_a325.sort_values(ascending=False))\n",
    "plt.boxplot(p_a325)"
   ]
  },
  {
   "cell_type": "code",
   "execution_count": 7,
   "metadata": {},
   "outputs": [
    {
     "data": {
      "text/plain": [
       "102003"
      ]
     },
     "execution_count": 7,
     "metadata": {},
     "output_type": "execute_result"
    }
   ],
   "source": [
    "p_a323.shape[0]"
   ]
  },
  {
   "cell_type": "markdown",
   "metadata": {},
   "source": [
    "***A3.3***"
   ]
  },
  {
   "cell_type": "code",
   "execution_count": 8,
   "metadata": {},
   "outputs": [
    {
     "data": {
      "image/png": "[encoded data removed]",
      "text/plain": [
       "<Figure size 432x288 with 1 Axes>"
      ]
     },
     "metadata": {
      "needs_background": "light"
     },
     "output_type": "display_data"
    }
   ],
   "source": [
    "mlconf = ['icml', 'nips']\n",
    "''' Add your code here '''\n",
    "p_a33 = p_a323[p_a323['conference'].str.contains('|'.join(mlconf))]\n",
    "p_a332 = p_a33.groupby('year').count()\n",
    "plt.bar(p_a332.index,p_a332.conference)\n",
    "p_a333 = p_a332.iloc[:,:1].stack()\n",
    "# print(p_a333.sort_values(ascending=False))"
   ]
  },
  {
   "cell_type": "code",
   "execution_count": 9,
   "metadata": {},
   "outputs": [
    {
     "data": {
      "text/plain": [
       "<BarContainer object of 32 artists>"
      ]
     },
     "execution_count": 9,
     "metadata": {},
     "output_type": "execute_result"
    },
    {
     "data": {
      "image/png": "[encoded data removed]",
      "text/plain": [
       "<Figure size 432x288 with 1 Axes>"
      ]
     },
     "metadata": {
      "needs_background": "light"
     },
     "output_type": "display_data"
    }
   ],
   "source": [
    "p_a334 = p_a323.copy()\n",
    "p_a334.loc[p_a334['year']=='?', 'year'] = '20'+p_a334['id'].str[-2:]\n",
    "p_a334.loc[p_a334['year']=='20ts', 'year'] = '2009'\n",
    "p_a334.loc[p_a334['year']=='200a', 'year'] = '2010'\n",
    "p_a334.loc[p_a334['year']=='20oa', 'year'] = '2008'\n",
    "p_a335 = p_a334[p_a334['conference'].str.contains('|'.join(mlconf))].groupby('year').count()\n",
    "plt.bar(p_a335.index,p_a335.conference)\n",
    "# p_a336 = p_a335.iloc[:,:1].stack()\n",
    "# print(p_a336.sort_values(ascending=False))"
   ]
  },
  {
   "cell_type": "markdown",
   "metadata": {},
   "source": [
    "***A3.4***"
   ]
  },
  {
   "cell_type": "code",
   "execution_count": 10,
   "metadata": {},
   "outputs": [
    {
     "data": {
      "text/html": [
       "<div>\n",
       "<style scoped>\n",
       "    .dataframe tbody tr th:only-of-type {\n",
       "        vertical-align: middle;\n",
       "    }\n",
       "\n",
       "    .dataframe tbody tr th {\n",
       "        vertical-align: top;\n",
       "    }\n",
       "\n",
       "    .dataframe thead th {\n",
       "        text-align: right;\n",
       "    }\n",
       "</style>\n",
       "<table border=\"1\" class=\"dataframe\">\n",
       "  <thead>\n",
       "    <tr style=\"text-align: right;\">\n",
       "      <th></th>\n",
       "      <th>authors</th>\n",
       "      <th>title</th>\n",
       "      <th>year</th>\n",
       "    </tr>\n",
       "  </thead>\n",
       "  <tbody>\n",
       "    <tr>\n",
       "      <th>0</th>\n",
       "      <td>'Francis Bach'</td>\n",
       "      <td>Efficient Algorithms for Non-convex Isotonic R...</td>\n",
       "      <td>2018</td>\n",
       "    </tr>\n",
       "    <tr>\n",
       "      <th>1</th>\n",
       "      <td>'Jianlong Chang', 'Jie Gu', 'Lingfeng Wang', '...</td>\n",
       "      <td>Structure-Aware Convolutional Neural Networks</td>\n",
       "      <td>2018</td>\n",
       "    </tr>\n",
       "    <tr>\n",
       "      <th>2</th>\n",
       "      <td>'Guangrun Wang', 'jiefeng peng', 'Ping Luo', '...</td>\n",
       "      <td>Kalman Normalization: Normalizing Internal Rep...</td>\n",
       "      <td>2018</td>\n",
       "    </tr>\n",
       "    <tr>\n",
       "      <th>3</th>\n",
       "      <td>'Constantinos Daskalakis', 'Nishanth Dikkala',...</td>\n",
       "      <td>HOGWILD!-Gibbs can be PanAccurate</td>\n",
       "      <td>2018</td>\n",
       "    </tr>\n",
       "    <tr>\n",
       "      <th>4</th>\n",
       "      <td>'Seonghyeon Nam', 'Yunji Kim', 'Seon Joo Kim'</td>\n",
       "      <td>Text-Adaptive Generative Adversarial Networks:...</td>\n",
       "      <td>2018</td>\n",
       "    </tr>\n",
       "  </tbody>\n",
       "</table>\n",
       "</div>"
      ],
      "text/plain": [
       "                                             authors  \\\n",
       "0                                     'Francis Bach'   \n",
       "1  'Jianlong Chang', 'Jie Gu', 'Lingfeng Wang', '...   \n",
       "2  'Guangrun Wang', 'jiefeng peng', 'Ping Luo', '...   \n",
       "3  'Constantinos Daskalakis', 'Nishanth Dikkala',...   \n",
       "4      'Seonghyeon Nam', 'Yunji Kim', 'Seon Joo Kim'   \n",
       "\n",
       "                                               title  year  \n",
       "0  Efficient Algorithms for Non-convex Isotonic R...  2018  \n",
       "1      Structure-Aware Convolutional Neural Networks  2018  \n",
       "2  Kalman Normalization: Normalizing Internal Rep...  2018  \n",
       "3                  HOGWILD!-Gibbs can be PanAccurate  2018  \n",
       "4  Text-Adaptive Generative Adversarial Networks:...  2018  "
      ]
     },
     "execution_count": 10,
     "metadata": {},
     "output_type": "execute_result"
    },
    {
     "data": {
      "image/png": "[encoded data removed]",
      "text/plain": [
       "<Figure size 432x288 with 1 Axes>"
      ]
     },
     "metadata": {
      "needs_background": "light"
     },
     "output_type": "display_data"
    }
   ],
   "source": [
    "''' Add your code here '''\n",
    "URL='https://papers.nips.cc/'\n",
    "r = get(URL)\n",
    "page_body = r.text\n",
    "page_body[:300]\n",
    "soup = BeautifulSoup(page_body, 'html.parser')\n",
    "soup.title\n",
    "all_links = soup.find_all('a')\n",
    "\n",
    "publications_list = []\n",
    "year = 2018\n",
    "for link in all_links:\n",
    "    if link.get('href').startswith('/book/advances'):\n",
    "        URL2 = link.get('href')\n",
    "        URL3 = URL + URL2 \n",
    "        r2 = get(URL3)\n",
    "        page_body2 = r2.text\n",
    "        page_body2[:300]\n",
    "        soup2 = BeautifulSoup(page_body2, 'html.parser')\n",
    "        all_li = soup2.find_all('li')\n",
    "        for p in all_li:\n",
    "            if not p.text == 'Books':\n",
    "                all_a = p.find_all('a')\n",
    "                a_list = p.find_all('a', class_='author')\n",
    "                authors = [author.text for author in a_list]\n",
    "                title = all_a[0].text\n",
    "                publications_list.append({'title':str(title),\n",
    "                                          'authors':str(authors),\n",
    "                                          'year':year})\n",
    "        year = year -1\n",
    "\n",
    "publications = pd.DataFrame.from_dict(publications_list)\n",
    "publications.head(1000)\n",
    "\n",
    "p_NIPS = publications.copy()\n",
    "p_NIPS['authors'] = p_NIPS['authors'].str.strip('[').str.strip(']')\n",
    "p_NIPS2 = pd.concat([p_NIPS, p_NIPS['authors'].str.split(',',expand=True)],axis=1).drop(['authors'],axis=1)\n",
    "p_NIPS3 = p_NIPS2.groupby('year').count()\n",
    "plt.bar(p_NIPS3.index,p_NIPS3.title)\n",
    "p_NIPS.head()\n",
    "\n",
    "\n",
    "#p_NIPS.isnull().sum()\n",
    "# p_NIPS2 = p_NIPS.fillna\n",
    "# p_NIPS2 = p_NIPS2.dropna\n",
    "# p_NIPS2 = p_NIPS.groupby('year').count()\n",
    "# plt.bar(p_NIPS2.index,p_NIPS2.authors)"
   ]
  },
  {
   "cell_type": "markdown",
   "metadata": {
    "colab_type": "text",
    "id": "0h0Zw8cPTyEp"
   },
   "source": [
    "### A4. Author activity\n",
    "\n",
    "For each author, calculate their normalized paper count, defined as the total number of papers divided by the author’s period of activity. An author’s period of activity is defined as the number of years between the earliest and latest papers of this author. Plot the distribution of the normalized paper count. What is the appropriate scale for the axes? Does the distribution (roughly) follow a particular law, and if yes, which one?"
   ]
  },
  {
   "cell_type": "code",
   "execution_count": 13,
   "metadata": {
    "colab": {},
    "colab_type": "code",
    "id": "dGV5GAndl6LE"
   },
   "outputs": [
    {
     "data": {
      "text/plain": [
       "(array([1.23539e+05, 6.78600e+03, 3.33000e+02, 8.90000e+01, 2.70000e+01,\n",
       "        6.00000e+00, 4.00000e+00, 1.00000e+00, 0.00000e+00, 1.00000e+00]),\n",
       " array([ 0.05128205,  1.57115385,  3.09102564,  4.61089744,  6.13076923,\n",
       "         7.65064103,  9.17051282, 10.69038462, 12.21025641, 13.73012821,\n",
       "        15.25      ]),\n",
       " <a list of 10 Patch objects>)"
      ]
     },
     "execution_count": 13,
     "metadata": {},
     "output_type": "execute_result"
    },
    {
     "data": {
      "image/png": "[encoded data removed]",
      "text/plain": [
       "<Figure size 432x288 with 1 Axes>"
      ]
     },
     "metadata": {
      "needs_background": "light"
     },
     "output_type": "display_data"
    }
   ],
   "source": [
    "''' Add your code here '''\n",
    "# p_a4 = p_a323.copy().drop('id',axis=1) # p_a323 = list: year revised\n",
    "# p_a42 = p_a4.set_index(['conference']).drop('nips', axis=0)\n",
    "# p_a42.reset_index(inplace=True)\n",
    "# # p_a42[p_a42['conference'].str.contains('nips')]\n",
    "# p_a43 = pd.DataFrame(p_a42,columns=['year','title','conference','authors'])\n",
    "# p_a43['year'] = p_a43['year'].astype(np.int64)\n",
    "# p_a44 = p_NIPS.copy()\n",
    "# p_a45 = pd.DataFrame(p_a44,columns=['year','title','conference','authors'])\n",
    "# p_a45['conference']='nips'\n",
    "# p_a46 = pd.concat([p_a43,p_a45]) # connect dataframes: p_a323.drop(nips)+p_NIPS\n",
    "# p_a47 = pd.concat([p_a46, p_a46['authors'].str.split(',',expand=True)],axis=1).drop(['authors'],axis=1)#.iloc[:,:4] #1st author, change number in iloc to change number of authors\n",
    "# p_a48= p_a47.set_index(['year', 'title','conference']).stack().str.strip('\"').str.strip('[').str.strip(']')\n",
    "# p_a48.replace('', np.nan, inplace=True)\n",
    "# p_a48.dropna()\n",
    "# p_a49 = p_a48.reset_index().rename(columns={0: 'author'}).iloc[:,[0,4]]\n",
    "# ct = p_a49.groupby('author').count().rename(columns={'year': 'ct'})\n",
    "# mx = p_a49.groupby('author').max().rename(columns={'year': 'max'})\n",
    "# mn = p_a49.groupby('author').min().rename(columns={'year': 'min'})\n",
    "# p_a410=pd.concat([ct,mx,mn], axis=1)\n",
    "# p_a410['np']=p_a410['ct'] / (p_a410['max'] - p_a410['min'] +1)\n",
    "# # print(p_a410.sort_values('np'))\n",
    "# p_a411 = p_a410[p_a410.np < 16] #delete outliers\n",
    "plt.hist(p_a411.np,log=True)\n",
    "# log-normal dist."
   ]
  },
  {
   "cell_type": "code",
   "execution_count": 374,
   "metadata": {},
   "outputs": [
    {
     "data": {
      "text/html": [
       "<div>\n",
       "<style scoped>\n",
       "    .dataframe tbody tr th:only-of-type {\n",
       "        vertical-align: middle;\n",
       "    }\n",
       "\n",
       "    .dataframe tbody tr th {\n",
       "        vertical-align: top;\n",
       "    }\n",
       "\n",
       "    .dataframe thead th {\n",
       "        text-align: right;\n",
       "    }\n",
       "</style>\n",
       "<table border=\"1\" class=\"dataframe\">\n",
       "  <thead>\n",
       "    <tr style=\"text-align: right;\">\n",
       "      <th></th>\n",
       "      <th>year</th>\n",
       "      <th>author</th>\n",
       "    </tr>\n",
       "  </thead>\n",
       "  <tbody>\n",
       "    <tr>\n",
       "      <th>0</th>\n",
       "      <td>1990</td>\n",
       "      <td>'Yoshinori Kuno'</td>\n",
       "    </tr>\n",
       "    <tr>\n",
       "      <th>1</th>\n",
       "      <td>1990</td>\n",
       "      <td>'Yasukazu Okamoto'</td>\n",
       "    </tr>\n",
       "    <tr>\n",
       "      <th>2</th>\n",
       "      <td>1990</td>\n",
       "      <td>'Satoshi Okada'</td>\n",
       "    </tr>\n",
       "    <tr>\n",
       "      <th>3</th>\n",
       "      <td>1999</td>\n",
       "      <td>'Sundar Vedula'</td>\n",
       "    </tr>\n",
       "    <tr>\n",
       "      <th>4</th>\n",
       "      <td>1999</td>\n",
       "      <td>'Simon Baker'</td>\n",
       "    </tr>\n",
       "  </tbody>\n",
       "</table>\n",
       "</div>"
      ],
      "text/plain": [
       "   year               author\n",
       "0  1990     'Yoshinori Kuno'\n",
       "1  1990   'Yasukazu Okamoto'\n",
       "2  1990      'Satoshi Okada'\n",
       "3  1999      'Sundar Vedula'\n",
       "4  1999        'Simon Baker'"
      ]
     },
     "execution_count": 374,
     "metadata": {},
     "output_type": "execute_result"
    }
   ],
   "source": [
    "p_a49.head()"
   ]
  },
  {
   "cell_type": "markdown",
   "metadata": {
    "colab_type": "text",
    "id": "ZM7pH8Y_UF3H"
   },
   "source": [
    "## Task B. Ranking authors\n",
    "\n",
    "As you may know, there exist rankings for universities, which represent their relative quality and are used to compare the performance of different universities. In the same vein, there are rankings for conferences and journals, which represent the importance and impact of each conference or journal, and therefore allow for approximate comparisons. In this part, you will rank authors based on different aspects of their research output.\n",
    "\n",
    "### B1. A Naïve Score\n",
    "\n",
    "In the absence of citation counts, it is hard to objectively rank the authors based on the impact of their contributions to the field of AI research. A naïve way would be to rank them based on their number of published papers. Obtain such a ranking and analyze your result. Identify and explain some obvious limitations of this scheme."
   ]
  },
  {
   "cell_type": "code",
   "execution_count": 284,
   "metadata": {},
   "outputs": [
    {
     "name": "stdout",
     "output_type": "stream",
     "text": [
      "                            ct\n",
      "author                        \n",
      " 'Luc Van Gool'            211\n",
      " 'Thomas S. Huang'         184\n",
      " 'Toshio Fukuda'           163\n",
      " 'Michael I. Jordan'       162\n",
      " 'Xiaoou Tang'             147\n",
      " 'Shuicheng Yan'           146\n",
      " 'Takeo Kanade'            145\n",
      " 'Larry S. Davis'          142\n",
      " 'Trevor Darrell'          142\n",
      " 'Vijay Kumar 0001'        141\n",
      " 'Roland Siegwart'         137\n",
      " 'Wolfram Burgard'         136\n",
      " 'Christopher D. Manning'  132\n",
      " 'Andrew Zisserman'        132\n",
      " 'Eric P. Xing'            131\n",
      " 'Marc Pollefeys'          130\n",
      " 'Martial Hebert'          129\n",
      " 'Dan Roth'                129\n",
      " 'Bernhard Schölkopf'      124\n",
      " 'Dan Klein'               123\n"
     ]
    }
   ],
   "source": [
    "''' Add your code here '''\n",
    "p_b1 = p_a46.copy()\n",
    "p_b12 = pd.concat([p_b1, p_b1['authors'].str.split(',',expand=True)],axis=1).drop(['authors'],axis=1)\n",
    "p_b13 = p_b12.set_index(['year', 'title','conference']).stack().str.strip('\"').str.strip('[').str.strip(']')\n",
    "p_b13.replace('', np.nan, inplace=True)\n",
    "p_b13.dropna()\n",
    "p_b14 = p_b13.reset_index().rename(columns={0: 'author'}).iloc[:,[0,4]]\n",
    "p_b15 = p_b14.groupby('author').count().rename(columns={'year': 'ct'})\n",
    "p_b15 = p_b15[p_b15.ct < 220] #delete outliers\n",
    "print(p_b15.sort_values('ct',ascending=False).head(20))"
   ]
  },
  {
   "cell_type": "markdown",
   "metadata": {},
   "source": [
    "### B2. H5-index\n",
    "\n",
    "Another way to score and rank authors could be based on the quality of the conferences and journals where they publish their papers. For this task, you have to use the H5-index score from AMiner (https://aminer.org/ranks/conf) (another database of scholarly publications), which captures the quality of academic conferences: the higher the H5-index, the better the conference.\n",
    "1. Load the AMiner dataset ( *'aminer_ai.tsv'* available in the folder ``data/``), which contains H5-index values for AI conferences. Load it into a new Pandas dataframe, and join it with the author-centric DBLP dataframe.\n",
    "2. Calculate a *'new'* author ranking (give each author a score, by which the authors are then sorted in order to obtain the ranking), where each author's score is the sum of the H5-indices of all their papers (the H5-index of a paper being the H5-index of the conference it is published in).\n",
    "3. Analyze your new, H5-index-based author ranking and explain how and why your results are different from the previous ranking. Do you see any differences in the top-20 authors based on the H5-index-based ranking and the one produced using publication counts? If yes, list the authors that are ranked in the top 20 based on publication counts but absent in the top 20 based on the H5-index-based ranking. Identify the ranks of these authors in the ranking produced by the H5-index based ranking scheme.\n",
    "4. Now, take the authors in the file `data/list_of_selected_authors.txt`, and compute their rankings using the two (naïve and H5-index-based) ranking schemes. What do you observe? Explain the potential dangers of the naïve, paper-count-based score.\n",
    "5. On the flip side, do you see any potential dangers of using the H5-index-based score?   \n",
    "_Hint: Analyze the conferences in which the top ranked authors publish. Investigate the effect of the conferences in which these authors publish more frequently on the obtained ranking._"
   ]
  },
  {
   "cell_type": "markdown",
   "metadata": {},
   "source": [
    "***B2.1***"
   ]
  },
  {
   "cell_type": "code",
   "execution_count": 14,
   "metadata": {},
   "outputs": [],
   "source": [
    "''' Add your code here '''\n",
    "aminer = pd.read_csv('data/aminer_ai.csv',sep=';')\n",
    "aminer = aminer.rename(columns={'Short Name': 'conference'})\n",
    "aminer['conference'] = aminer['conference'].str.lower()\n",
    "aminer.dropna(how='any', inplace = True)\n",
    "aminer2 = aminer[aminer['conference'].str.match('|'.join(conf_lines))]\n",
    "p_b21 = p_a46.copy()\n",
    "p_b212 = pd.concat([p_b21, p_b21['authors'].str.split(',',expand=True)],axis=1).drop(['authors'],axis=1)\n",
    "p_b213 = pd.merge(p_b212,aminer2,how=\"outer\", on = \"conference\").drop(['Rank','Conference (Full Name)'],axis=1)"
   ]
  },
  {
   "cell_type": "code",
   "execution_count": 15,
   "metadata": {},
   "outputs": [
    {
     "data": {
      "text/html": [
       "<div>\n",
       "<style scoped>\n",
       "    .dataframe tbody tr th:only-of-type {\n",
       "        vertical-align: middle;\n",
       "    }\n",
       "\n",
       "    .dataframe tbody tr th {\n",
       "        vertical-align: top;\n",
       "    }\n",
       "\n",
       "    .dataframe thead th {\n",
       "        text-align: right;\n",
       "    }\n",
       "</style>\n",
       "<table border=\"1\" class=\"dataframe\">\n",
       "  <thead>\n",
       "    <tr style=\"text-align: right;\">\n",
       "      <th></th>\n",
       "      <th>year</th>\n",
       "      <th>title</th>\n",
       "      <th>conference</th>\n",
       "      <th>0</th>\n",
       "      <th>1</th>\n",
       "      <th>2</th>\n",
       "      <th>3</th>\n",
       "      <th>4</th>\n",
       "      <th>5</th>\n",
       "      <th>6</th>\n",
       "      <th>...</th>\n",
       "      <th>68</th>\n",
       "      <th>69</th>\n",
       "      <th>70</th>\n",
       "      <th>71</th>\n",
       "      <th>72</th>\n",
       "      <th>73</th>\n",
       "      <th>74</th>\n",
       "      <th>75</th>\n",
       "      <th>76</th>\n",
       "      <th>H5-Index</th>\n",
       "    </tr>\n",
       "  </thead>\n",
       "  <tbody>\n",
       "    <tr>\n",
       "      <th>0</th>\n",
       "      <td>1990</td>\n",
       "      <td>Object recognition using a feature search stra...</td>\n",
       "      <td>iccv</td>\n",
       "      <td>['Yoshinori Kuno'</td>\n",
       "      <td>'Yasukazu Okamoto'</td>\n",
       "      <td>'Satoshi Okada']</td>\n",
       "      <td>None</td>\n",
       "      <td>None</td>\n",
       "      <td>None</td>\n",
       "      <td>None</td>\n",
       "      <td>...</td>\n",
       "      <td>None</td>\n",
       "      <td>None</td>\n",
       "      <td>None</td>\n",
       "      <td>None</td>\n",
       "      <td>None</td>\n",
       "      <td>None</td>\n",
       "      <td>None</td>\n",
       "      <td>None</td>\n",
       "      <td>None</td>\n",
       "      <td>58</td>\n",
       "    </tr>\n",
       "  </tbody>\n",
       "</table>\n",
       "<p>1 rows × 81 columns</p>\n",
       "</div>"
      ],
      "text/plain": [
       "   year                                              title conference  \\\n",
       "0  1990  Object recognition using a feature search stra...       iccv   \n",
       "\n",
       "                   0                    1                  2     3     4  \\\n",
       "0  ['Yoshinori Kuno'   'Yasukazu Okamoto'   'Satoshi Okada']  None  None   \n",
       "\n",
       "      5     6  ...    68    69    70    71    72    73    74    75    76  \\\n",
       "0  None  None  ...  None  None  None  None  None  None  None  None  None   \n",
       "\n",
       "  H5-Index  \n",
       "0       58  \n",
       "\n",
       "[1 rows x 81 columns]"
      ]
     },
     "execution_count": 15,
     "metadata": {},
     "output_type": "execute_result"
    }
   ],
   "source": [
    "p_b213.head(1)"
   ]
  },
  {
   "cell_type": "markdown",
   "metadata": {},
   "source": [
    "***B2.2***"
   ]
  },
  {
   "cell_type": "code",
   "execution_count": 387,
   "metadata": {},
   "outputs": [
    {
     "name": "stdout",
     "output_type": "stream",
     "text": [
      "author\n",
      " 'Luc Van Gool'            18100.0\n",
      " 'Thomas S. Huang'         13991.0\n",
      " 'Xiaoou Tang'             13019.0\n",
      " 'Shuicheng Yan'           11660.0\n",
      " 'Trevor Darrell'          11495.0\n",
      " 'Larry S. Davis'          11131.0\n",
      " 'Marc Pollefeys'          10911.0\n",
      " 'Martial Hebert'          10227.0\n",
      " 'Takeo Kanade'            10216.0\n",
      " 'Mubarak Shah'            10112.0\n",
      " 'Andrew Zisserman'         9838.0\n",
      " 'Pascal Fua'               9830.0\n",
      " 'Jitendra Malik'           9672.0\n",
      " 'Toshio Fukuda'            9454.0\n",
      " 'Xiaogang Wang'            9280.0\n",
      " 'Ming-Hsuan Yang 0001'     9184.0\n",
      " 'Bernt Schiele'            9098.0\n",
      " 'Rama Chellappa'           8868.0\n",
      " 'Alan L. Yuille'           8609.0\n",
      " 'Michael I. Jordan'        8569.0\n",
      "Name: H5_score, dtype: float64\n"
     ]
    }
   ],
   "source": [
    "''' Add your code here '''\n",
    "# p_b22 = p_b213.set_index(['year', 'title','conference','H5-Index']).stack().str.strip('\"').str.strip('[').str.strip(']')\n",
    "# p_b22.replace('', np.nan, inplace=True)\n",
    "# p_b22.dropna()\n",
    "# p_b222 = p_b22.reset_index().rename(columns={0: 'author'})\n",
    "# ct_b223 = p_b222.groupby('author').count().rename(columns={'year': 'ct'})\n",
    "# mean_b223 = p_b222.groupby('author').mean().rename(columns={'H5-Index': 'H5_mean'})\n",
    "# ymax_b223 = p_b222.groupby('author').max().rename(columns={'year': 'year_max'})\n",
    "# ymin_b223 = p_b222.groupby('author').min().rename(columns={'year': 'year_min'})\n",
    "p_b224 = pd.concat([ct_b223,mean_b223,ymax_b223,ymin_b223], axis=1).drop(['title','conference','H5-Index','year','level_4'],axis=1)\n",
    "p_b224['H5_score'] = p_b224['ct'] * p_b224['H5_mean']\n",
    "p_b224 = p_b224[p_b224.H5_score < 20000] #delete outliers\n",
    "print(p_b224['H5_score'].sort_values(ascending=False).head(20))"
   ]
  },
  {
   "cell_type": "code",
   "execution_count": 389,
   "metadata": {},
   "outputs": [
    {
     "data": {
      "text/html": [
       "<div>\n",
       "<style scoped>\n",
       "    .dataframe tbody tr th:only-of-type {\n",
       "        vertical-align: middle;\n",
       "    }\n",
       "\n",
       "    .dataframe tbody tr th {\n",
       "        vertical-align: top;\n",
       "    }\n",
       "\n",
       "    .dataframe thead th {\n",
       "        text-align: right;\n",
       "    }\n",
       "</style>\n",
       "<table border=\"1\" class=\"dataframe\">\n",
       "  <thead>\n",
       "    <tr style=\"text-align: right;\">\n",
       "      <th></th>\n",
       "      <th>ct</th>\n",
       "      <th>H5_mean</th>\n",
       "      <th>year_max</th>\n",
       "      <th>year_min</th>\n",
       "      <th>H5_score</th>\n",
       "    </tr>\n",
       "    <tr>\n",
       "      <th>author</th>\n",
       "      <th></th>\n",
       "      <th></th>\n",
       "      <th></th>\n",
       "      <th></th>\n",
       "      <th></th>\n",
       "    </tr>\n",
       "  </thead>\n",
       "  <tbody>\n",
       "    <tr>\n",
       "      <th>\"\"Aaron D'Souza</th>\n",
       "      <td>3</td>\n",
       "      <td>57.333333</td>\n",
       "      <td>2008</td>\n",
       "      <td>2006</td>\n",
       "      <td>172.0</td>\n",
       "    </tr>\n",
       "    <tr>\n",
       "      <th>\"\"Abidalrahman Moh'd</th>\n",
       "      <td>1</td>\n",
       "      <td>45.000000</td>\n",
       "      <td>2016</td>\n",
       "      <td>2016</td>\n",
       "      <td>45.0</td>\n",
       "    </tr>\n",
       "    <tr>\n",
       "      <th>\"\"Alan O'Connor</th>\n",
       "      <td>1</td>\n",
       "      <td>58.000000</td>\n",
       "      <td>2004</td>\n",
       "      <td>2004</td>\n",
       "      <td>58.0</td>\n",
       "    </tr>\n",
       "    <tr>\n",
       "      <th>\"\"Alden D'Souza</th>\n",
       "      <td>1</td>\n",
       "      <td>58.000000</td>\n",
       "      <td>2011</td>\n",
       "      <td>2011</td>\n",
       "      <td>58.0</td>\n",
       "    </tr>\n",
       "    <tr>\n",
       "      <th>\"\"Alexander M. Formal'sky</th>\n",
       "      <td>3</td>\n",
       "      <td>58.000000</td>\n",
       "      <td>1998</td>\n",
       "      <td>1997</td>\n",
       "      <td>174.0</td>\n",
       "    </tr>\n",
       "  </tbody>\n",
       "</table>\n",
       "</div>"
      ],
      "text/plain": [
       "                            ct    H5_mean  year_max  year_min  H5_score\n",
       "author                                                                 \n",
       " \"\"Aaron D'Souza             3  57.333333      2008      2006     172.0\n",
       " \"\"Abidalrahman Moh'd        1  45.000000      2016      2016      45.0\n",
       " \"\"Alan O'Connor             1  58.000000      2004      2004      58.0\n",
       " \"\"Alden D'Souza             1  58.000000      2011      2011      58.0\n",
       " \"\"Alexander M. Formal'sky   3  58.000000      1998      1997     174.0"
      ]
     },
     "execution_count": 389,
     "metadata": {},
     "output_type": "execute_result"
    }
   ],
   "source": [
    "p_b224.head()"
   ]
  },
  {
   "cell_type": "markdown",
   "metadata": {},
   "source": [
    "***B2.3***"
   ]
  },
  {
   "cell_type": "code",
   "execution_count": 390,
   "metadata": {},
   "outputs": [
    {
     "data": {
      "text/html": [
       "<div>\n",
       "<style scoped>\n",
       "    .dataframe tbody tr th:only-of-type {\n",
       "        vertical-align: middle;\n",
       "    }\n",
       "\n",
       "    .dataframe tbody tr th {\n",
       "        vertical-align: top;\n",
       "    }\n",
       "\n",
       "    .dataframe thead th {\n",
       "        text-align: right;\n",
       "    }\n",
       "</style>\n",
       "<table border=\"1\" class=\"dataframe\">\n",
       "  <thead>\n",
       "    <tr style=\"text-align: right;\">\n",
       "      <th></th>\n",
       "      <th>ct</th>\n",
       "      <th>H5_mean</th>\n",
       "      <th>year_max</th>\n",
       "      <th>year_min</th>\n",
       "      <th>H5_score</th>\n",
       "      <th>H5_rank</th>\n",
       "      <th>Npapers_rank</th>\n",
       "    </tr>\n",
       "    <tr>\n",
       "      <th>author</th>\n",
       "      <th></th>\n",
       "      <th></th>\n",
       "      <th></th>\n",
       "      <th></th>\n",
       "      <th></th>\n",
       "      <th></th>\n",
       "      <th></th>\n",
       "    </tr>\n",
       "  </thead>\n",
       "  <tbody>\n",
       "    <tr>\n",
       "      <th>'Vijay Kumar 0001'</th>\n",
       "      <td>141</td>\n",
       "      <td>58.283688</td>\n",
       "      <td>2018</td>\n",
       "      <td>1989</td>\n",
       "      <td>8218.0</td>\n",
       "      <td>21</td>\n",
       "      <td>10</td>\n",
       "    </tr>\n",
       "    <tr>\n",
       "      <th>'Roland Siegwart'</th>\n",
       "      <td>137</td>\n",
       "      <td>59.204380</td>\n",
       "      <td>2018</td>\n",
       "      <td>1991</td>\n",
       "      <td>8111.0</td>\n",
       "      <td>23</td>\n",
       "      <td>11</td>\n",
       "    </tr>\n",
       "    <tr>\n",
       "      <th>'Wolfram Burgard'</th>\n",
       "      <td>136</td>\n",
       "      <td>56.191176</td>\n",
       "      <td>2018</td>\n",
       "      <td>1998</td>\n",
       "      <td>7642.0</td>\n",
       "      <td>27</td>\n",
       "      <td>12</td>\n",
       "    </tr>\n",
       "    <tr>\n",
       "      <th>'Christopher D. Manning'</th>\n",
       "      <td>132</td>\n",
       "      <td>41.666667</td>\n",
       "      <td>2018</td>\n",
       "      <td>2000</td>\n",
       "      <td>5500.0</td>\n",
       "      <td>54</td>\n",
       "      <td>14</td>\n",
       "    </tr>\n",
       "    <tr>\n",
       "      <th>'Eric P. Xing'</th>\n",
       "      <td>131</td>\n",
       "      <td>57.206107</td>\n",
       "      <td>2018</td>\n",
       "      <td>2005</td>\n",
       "      <td>7494.0</td>\n",
       "      <td>31</td>\n",
       "      <td>15</td>\n",
       "    </tr>\n",
       "    <tr>\n",
       "      <th>'Dan Roth'</th>\n",
       "      <td>129</td>\n",
       "      <td>40.410853</td>\n",
       "      <td>2018</td>\n",
       "      <td>1994</td>\n",
       "      <td>5213.0</td>\n",
       "      <td>64</td>\n",
       "      <td>18</td>\n",
       "    </tr>\n",
       "    <tr>\n",
       "      <th>'Bernhard Schölkopf'</th>\n",
       "      <td>124</td>\n",
       "      <td>54.733871</td>\n",
       "      <td>2018</td>\n",
       "      <td>1996</td>\n",
       "      <td>6787.0</td>\n",
       "      <td>35</td>\n",
       "      <td>19</td>\n",
       "    </tr>\n",
       "    <tr>\n",
       "      <th>'Milind Tambe'</th>\n",
       "      <td>123</td>\n",
       "      <td>34.471545</td>\n",
       "      <td>2018</td>\n",
       "      <td>1988</td>\n",
       "      <td>4240.0</td>\n",
       "      <td>111</td>\n",
       "      <td>20</td>\n",
       "    </tr>\n",
       "  </tbody>\n",
       "</table>\n",
       "</div>"
      ],
      "text/plain": [
       "                            ct    H5_mean  year_max  year_min  H5_score  \\\n",
       "author                                                                    \n",
       " 'Vijay Kumar 0001'        141  58.283688      2018      1989    8218.0   \n",
       " 'Roland Siegwart'         137  59.204380      2018      1991    8111.0   \n",
       " 'Wolfram Burgard'         136  56.191176      2018      1998    7642.0   \n",
       " 'Christopher D. Manning'  132  41.666667      2018      2000    5500.0   \n",
       " 'Eric P. Xing'            131  57.206107      2018      2005    7494.0   \n",
       " 'Dan Roth'                129  40.410853      2018      1994    5213.0   \n",
       " 'Bernhard Schölkopf'      124  54.733871      2018      1996    6787.0   \n",
       " 'Milind Tambe'            123  34.471545      2018      1988    4240.0   \n",
       "\n",
       "                           H5_rank  Npapers_rank  \n",
       "author                                            \n",
       " 'Vijay Kumar 0001'             21            10  \n",
       " 'Roland Siegwart'              23            11  \n",
       " 'Wolfram Burgard'              27            12  \n",
       " 'Christopher D. Manning'       54            14  \n",
       " 'Eric P. Xing'                 31            15  \n",
       " 'Dan Roth'                     64            18  \n",
       " 'Bernhard Schölkopf'           35            19  \n",
       " 'Milind Tambe'                111            20  "
      ]
     },
     "execution_count": 390,
     "metadata": {},
     "output_type": "execute_result"
    }
   ],
   "source": [
    "''' Add your code here '''\n",
    "p_b23 = p_b224.copy()\n",
    "p_b232 = p_b23.sort_values('H5_score',ascending=False)\n",
    "p_b232['H5_rank'] = np.arange(1,len(p_b23)+1)\n",
    "p_b233 = p_b232.sort_values('ct',ascending=False)\n",
    "p_b233['Npapers_rank'] = np.arange(1,len(p_b23)+1)\n",
    "p_b233[(p_b233['Npapers_rank'] < 21) & (p_b233['H5_rank'] > 20)]"
   ]
  },
  {
   "cell_type": "markdown",
   "metadata": {},
   "source": [
    "***B2.4***"
   ]
  },
  {
   "cell_type": "code",
   "execution_count": 391,
   "metadata": {},
   "outputs": [
    {
     "data": {
      "text/html": [
       "<div>\n",
       "<style scoped>\n",
       "    .dataframe tbody tr th:only-of-type {\n",
       "        vertical-align: middle;\n",
       "    }\n",
       "\n",
       "    .dataframe tbody tr th {\n",
       "        vertical-align: top;\n",
       "    }\n",
       "\n",
       "    .dataframe thead th {\n",
       "        text-align: right;\n",
       "    }\n",
       "</style>\n",
       "<table border=\"1\" class=\"dataframe\">\n",
       "  <thead>\n",
       "    <tr style=\"text-align: right;\">\n",
       "      <th></th>\n",
       "      <th>author</th>\n",
       "      <th>ct</th>\n",
       "      <th>H5_mean</th>\n",
       "      <th>year_max</th>\n",
       "      <th>year_min</th>\n",
       "      <th>H5_score</th>\n",
       "      <th>H5_rank</th>\n",
       "      <th>Npapers_rank</th>\n",
       "    </tr>\n",
       "  </thead>\n",
       "  <tbody>\n",
       "    <tr>\n",
       "      <th>3107</th>\n",
       "      <td>Naokazu Yokoya</td>\n",
       "      <td>11</td>\n",
       "      <td>14.363636</td>\n",
       "      <td>2016</td>\n",
       "      <td>1998</td>\n",
       "      <td>158.0</td>\n",
       "      <td>21054</td>\n",
       "      <td>3108</td>\n",
       "    </tr>\n",
       "    <tr>\n",
       "      <th>3323</th>\n",
       "      <td>Hy Murveit</td>\n",
       "      <td>11</td>\n",
       "      <td>10.000000</td>\n",
       "      <td>1994</td>\n",
       "      <td>1989</td>\n",
       "      <td>110.0</td>\n",
       "      <td>40230</td>\n",
       "      <td>3324</td>\n",
       "    </tr>\n",
       "    <tr>\n",
       "      <th>3364</th>\n",
       "      <td>Mengjie Zhang</td>\n",
       "      <td>11</td>\n",
       "      <td>11.272727</td>\n",
       "      <td>2018</td>\n",
       "      <td>2004</td>\n",
       "      <td>124.0</td>\n",
       "      <td>24279</td>\n",
       "      <td>3365</td>\n",
       "    </tr>\n",
       "    <tr>\n",
       "      <th>3586</th>\n",
       "      <td>Jianwu Dang</td>\n",
       "      <td>10</td>\n",
       "      <td>12.200000</td>\n",
       "      <td>2018</td>\n",
       "      <td>2016</td>\n",
       "      <td>122.0</td>\n",
       "      <td>24770</td>\n",
       "      <td>3587</td>\n",
       "    </tr>\n",
       "    <tr>\n",
       "      <th>7660</th>\n",
       "      <td>Hy Murveit</td>\n",
       "      <td>6</td>\n",
       "      <td>10.000000</td>\n",
       "      <td>1994</td>\n",
       "      <td>1989</td>\n",
       "      <td>60.0</td>\n",
       "      <td>49514</td>\n",
       "      <td>7661</td>\n",
       "    </tr>\n",
       "    <tr>\n",
       "      <th>8020</th>\n",
       "      <td>Sebastian Otte</td>\n",
       "      <td>6</td>\n",
       "      <td>13.000000</td>\n",
       "      <td>2018</td>\n",
       "      <td>2014</td>\n",
       "      <td>78.0</td>\n",
       "      <td>47566</td>\n",
       "      <td>8021</td>\n",
       "    </tr>\n",
       "    <tr>\n",
       "      <th>16291</th>\n",
       "      <td>Sebastian Otte</td>\n",
       "      <td>4</td>\n",
       "      <td>17.500000</td>\n",
       "      <td>2018</td>\n",
       "      <td>2016</td>\n",
       "      <td>70.0</td>\n",
       "      <td>48328</td>\n",
       "      <td>16292</td>\n",
       "    </tr>\n",
       "    <tr>\n",
       "      <th>30473</th>\n",
       "      <td>Mengjie Zhang</td>\n",
       "      <td>2</td>\n",
       "      <td>8.000000</td>\n",
       "      <td>2006</td>\n",
       "      <td>2006</td>\n",
       "      <td>16.0</td>\n",
       "      <td>106732</td>\n",
       "      <td>30474</td>\n",
       "    </tr>\n",
       "    <tr>\n",
       "      <th>44766</th>\n",
       "      <td>Iljung S. Kwak</td>\n",
       "      <td>2</td>\n",
       "      <td>85.000000</td>\n",
       "      <td>2015</td>\n",
       "      <td>2012</td>\n",
       "      <td>170.0</td>\n",
       "      <td>19400</td>\n",
       "      <td>44767</td>\n",
       "    </tr>\n",
       "    <tr>\n",
       "      <th>44887</th>\n",
       "      <td>Charles Freundlich</td>\n",
       "      <td>2</td>\n",
       "      <td>85.000000</td>\n",
       "      <td>2015</td>\n",
       "      <td>2013</td>\n",
       "      <td>170.0</td>\n",
       "      <td>19188</td>\n",
       "      <td>44888</td>\n",
       "    </tr>\n",
       "    <tr>\n",
       "      <th>46833</th>\n",
       "      <td>Parag Havaldar</td>\n",
       "      <td>2</td>\n",
       "      <td>85.000000</td>\n",
       "      <td>1996</td>\n",
       "      <td>1995</td>\n",
       "      <td>170.0</td>\n",
       "      <td>19769</td>\n",
       "      <td>46834</td>\n",
       "    </tr>\n",
       "    <tr>\n",
       "      <th>46950</th>\n",
       "      <td>Steffen Abraham</td>\n",
       "      <td>2</td>\n",
       "      <td>85.000000</td>\n",
       "      <td>2018</td>\n",
       "      <td>2008</td>\n",
       "      <td>170.0</td>\n",
       "      <td>19741</td>\n",
       "      <td>46951</td>\n",
       "    </tr>\n",
       "    <tr>\n",
       "      <th>100528</th>\n",
       "      <td>Yukihiro Nakamura</td>\n",
       "      <td>1</td>\n",
       "      <td>112.000000</td>\n",
       "      <td>2007</td>\n",
       "      <td>2007</td>\n",
       "      <td>112.0</td>\n",
       "      <td>31490</td>\n",
       "      <td>100529</td>\n",
       "    </tr>\n",
       "    <tr>\n",
       "      <th>105040</th>\n",
       "      <td>Yukihiro Nakamura</td>\n",
       "      <td>1</td>\n",
       "      <td>58.000000</td>\n",
       "      <td>1998</td>\n",
       "      <td>1998</td>\n",
       "      <td>58.0</td>\n",
       "      <td>51742</td>\n",
       "      <td>105041</td>\n",
       "    </tr>\n",
       "  </tbody>\n",
       "</table>\n",
       "</div>"
      ],
      "text/plain": [
       "                    author  ct     H5_mean  year_max  year_min  H5_score  \\\n",
       "3107        Naokazu Yokoya  11   14.363636      2016      1998     158.0   \n",
       "3323            Hy Murveit  11   10.000000      1994      1989     110.0   \n",
       "3364         Mengjie Zhang  11   11.272727      2018      2004     124.0   \n",
       "3586           Jianwu Dang  10   12.200000      2018      2016     122.0   \n",
       "7660            Hy Murveit   6   10.000000      1994      1989      60.0   \n",
       "8020        Sebastian Otte   6   13.000000      2018      2014      78.0   \n",
       "16291       Sebastian Otte   4   17.500000      2018      2016      70.0   \n",
       "30473        Mengjie Zhang   2    8.000000      2006      2006      16.0   \n",
       "44766       Iljung S. Kwak   2   85.000000      2015      2012     170.0   \n",
       "44887   Charles Freundlich   2   85.000000      2015      2013     170.0   \n",
       "46833       Parag Havaldar   2   85.000000      1996      1995     170.0   \n",
       "46950      Steffen Abraham   2   85.000000      2018      2008     170.0   \n",
       "100528   Yukihiro Nakamura   1  112.000000      2007      2007     112.0   \n",
       "105040   Yukihiro Nakamura   1   58.000000      1998      1998      58.0   \n",
       "\n",
       "        H5_rank  Npapers_rank  \n",
       "3107      21054          3108  \n",
       "3323      40230          3324  \n",
       "3364      24279          3365  \n",
       "3586      24770          3587  \n",
       "7660      49514          7661  \n",
       "8020      47566          8021  \n",
       "16291     48328         16292  \n",
       "30473    106732         30474  \n",
       "44766     19400         44767  \n",
       "44887     19188         44888  \n",
       "46833     19769         46834  \n",
       "46950     19741         46951  \n",
       "100528    31490        100529  \n",
       "105040    51742        105041  "
      ]
     },
     "execution_count": 391,
     "metadata": {},
     "output_type": "execute_result"
    }
   ],
   "source": [
    "''' Add your code here '''\n",
    "authors_data = open('data/list_of_selected_authors.txt','r')\n",
    "authors_data = authors_data.read().splitlines()\n",
    "p_b24=p_b233.copy()\n",
    "p_b24.reset_index(inplace = True)\n",
    "p_b24['author']=p_b24['author'].str.strip(\" ' \").str.strip(\" ' \")\n",
    "p_b24 = p_b24[p_b24['author'].isin(authors_data)]\n",
    "p_b24\n",
    "# papers quality = high (pass to conference with high H5_rank value), number of publication = low --> low evaluation"
   ]
  },
  {
   "cell_type": "markdown",
   "metadata": {},
   "source": [
    "***B2.5***"
   ]
  },
  {
   "cell_type": "code",
   "execution_count": 393,
   "metadata": {},
   "outputs": [
    {
     "data": {
      "text/html": [
       "<div>\n",
       "<style scoped>\n",
       "    .dataframe tbody tr th:only-of-type {\n",
       "        vertical-align: middle;\n",
       "    }\n",
       "\n",
       "    .dataframe tbody tr th {\n",
       "        vertical-align: top;\n",
       "    }\n",
       "\n",
       "    .dataframe thead th {\n",
       "        text-align: right;\n",
       "    }\n",
       "</style>\n",
       "<table border=\"1\" class=\"dataframe\">\n",
       "  <thead>\n",
       "    <tr style=\"text-align: right;\">\n",
       "      <th></th>\n",
       "      <th>year</th>\n",
       "      <th>title</th>\n",
       "      <th>conference</th>\n",
       "      <th>H5-Index</th>\n",
       "      <th>level_4</th>\n",
       "      <th>author</th>\n",
       "    </tr>\n",
       "  </thead>\n",
       "  <tbody>\n",
       "    <tr>\n",
       "      <th>479</th>\n",
       "      <td>2017</td>\n",
       "      <td>Chained Cascade Network for Object Detection.</td>\n",
       "      <td>iccv</td>\n",
       "      <td>58</td>\n",
       "      <td>3</td>\n",
       "      <td>Xiaogang Wang</td>\n",
       "    </tr>\n",
       "    <tr>\n",
       "      <th>1539</th>\n",
       "      <td>2015</td>\n",
       "      <td>Visual Tracking with Fully Convolutional Netwo...</td>\n",
       "      <td>iccv</td>\n",
       "      <td>58</td>\n",
       "      <td>2</td>\n",
       "      <td>Xiaogang Wang</td>\n",
       "    </tr>\n",
       "    <tr>\n",
       "      <th>2156</th>\n",
       "      <td>2007</td>\n",
       "      <td>Shape and Appearance Context Modeling.</td>\n",
       "      <td>iccv</td>\n",
       "      <td>58</td>\n",
       "      <td>0</td>\n",
       "      <td>Xiaogang Wang</td>\n",
       "    </tr>\n",
       "    <tr>\n",
       "      <th>2579</th>\n",
       "      <td>2015</td>\n",
       "      <td>Learning Deep Representation with Large-Scale ...</td>\n",
       "      <td>iccv</td>\n",
       "      <td>58</td>\n",
       "      <td>3</td>\n",
       "      <td>Xiaogang Wang</td>\n",
       "    </tr>\n",
       "    <tr>\n",
       "      <th>2921</th>\n",
       "      <td>2015</td>\n",
       "      <td>Deep Learning Strong Parts for Pedestrian Dete...</td>\n",
       "      <td>iccv</td>\n",
       "      <td>58</td>\n",
       "      <td>2</td>\n",
       "      <td>Xiaogang Wang</td>\n",
       "    </tr>\n",
       "  </tbody>\n",
       "</table>\n",
       "</div>"
      ],
      "text/plain": [
       "      year                                              title conference  \\\n",
       "479   2017      Chained Cascade Network for Object Detection.       iccv   \n",
       "1539  2015  Visual Tracking with Fully Convolutional Netwo...       iccv   \n",
       "2156  2007             Shape and Appearance Context Modeling.       iccv   \n",
       "2579  2015  Learning Deep Representation with Large-Scale ...       iccv   \n",
       "2921  2015  Deep Learning Strong Parts for Pedestrian Dete...       iccv   \n",
       "\n",
       "      H5-Index  level_4         author  \n",
       "479         58        3  Xiaogang Wang  \n",
       "1539        58        2  Xiaogang Wang  \n",
       "2156        58        0  Xiaogang Wang  \n",
       "2579        58        3  Xiaogang Wang  \n",
       "2921        58        2  Xiaogang Wang  "
      ]
     },
     "execution_count": 393,
     "metadata": {},
     "output_type": "execute_result"
    }
   ],
   "source": [
    "''' Add your code here '''\n",
    "p_b25=p_b222.copy()\n",
    "p_b25['author'] = p_b25['author'].str.strip(\" ' \").str.strip(\" ' \")\n",
    "p_b25[p_b25['author']=='Xiaogang Wang'].head()\n",
    "# popularity would be concentrate too much on conferences with hight H5-Index values"
   ]
  },
  {
   "cell_type": "markdown",
   "metadata": {},
   "source": [
    "### B3. And Justice For All\n",
    "\n",
    "An ideal ranking scheme should not give undue advantage to authors who have been conducting research for a longer period of time and therefore have naturally published more papers when compared to a junior researcher. Does the ranking scheme designed by you in ``Step 2`` take this factor into account? If not, introduce variations in your ranking scheme to mitigate this effect. Do you observe anything odd with this new ranking? Clearly explain your observations.\n",
    "\n",
    "_Hint: What you did in part A4 may be useful here._"
   ]
  },
  {
   "cell_type": "code",
   "execution_count": 95,
   "metadata": {},
   "outputs": [
    {
     "ename": "NameError",
     "evalue": "name 'p_b224' is not defined",
     "output_type": "error",
     "traceback": [
      "\u001b[0;31m---------------------------------------------------------------------------\u001b[0m",
      "\u001b[0;31mNameError\u001b[0m                                 Traceback (most recent call last)",
      "\u001b[0;32m<ipython-input-95-095abe508b73>\u001b[0m in \u001b[0;36m<module>\u001b[0;34m\u001b[0m\n\u001b[1;32m      1\u001b[0m \u001b[0;34m''' Add your code here '''\u001b[0m\u001b[0;34m\u001b[0m\u001b[0;34m\u001b[0m\u001b[0m\n\u001b[0;32m----> 2\u001b[0;31m \u001b[0mp_b3\u001b[0m \u001b[0;34m=\u001b[0m \u001b[0mp_b224\u001b[0m\u001b[0;34m.\u001b[0m\u001b[0mcopy\u001b[0m\u001b[0;34m(\u001b[0m\u001b[0;34m)\u001b[0m\u001b[0;34m\u001b[0m\u001b[0;34m\u001b[0m\u001b[0m\n\u001b[0m\u001b[1;32m      3\u001b[0m \u001b[0mp_b3\u001b[0m\u001b[0;34m[\u001b[0m\u001b[0;34m'ct_n'\u001b[0m\u001b[0;34m]\u001b[0m \u001b[0;34m=\u001b[0m \u001b[0mp_b3\u001b[0m\u001b[0;34m[\u001b[0m\u001b[0;34m'ct'\u001b[0m\u001b[0;34m]\u001b[0m \u001b[0;34m/\u001b[0m \u001b[0;34m(\u001b[0m\u001b[0mp_b3\u001b[0m\u001b[0;34m[\u001b[0m\u001b[0;34m'year_max'\u001b[0m\u001b[0;34m]\u001b[0m \u001b[0;34m-\u001b[0m \u001b[0mp_b3\u001b[0m\u001b[0;34m[\u001b[0m\u001b[0;34m'year_min'\u001b[0m\u001b[0;34m]\u001b[0m \u001b[0;34m+\u001b[0m \u001b[0;36m1\u001b[0m\u001b[0;34m)\u001b[0m\u001b[0;34m\u001b[0m\u001b[0;34m\u001b[0m\u001b[0m\n\u001b[1;32m      4\u001b[0m \u001b[0mp_b3\u001b[0m\u001b[0;34m[\u001b[0m\u001b[0;34m'H5_score_n'\u001b[0m\u001b[0;34m]\u001b[0m \u001b[0;34m=\u001b[0m \u001b[0mp_b3\u001b[0m\u001b[0;34m[\u001b[0m\u001b[0;34m'H5_score'\u001b[0m\u001b[0;34m]\u001b[0m \u001b[0;34m/\u001b[0m \u001b[0;34m(\u001b[0m\u001b[0mp_b3\u001b[0m\u001b[0;34m[\u001b[0m\u001b[0;34m'year_max'\u001b[0m\u001b[0;34m]\u001b[0m \u001b[0;34m-\u001b[0m \u001b[0mp_b3\u001b[0m\u001b[0;34m[\u001b[0m\u001b[0;34m'year_min'\u001b[0m\u001b[0;34m]\u001b[0m \u001b[0;34m+\u001b[0m \u001b[0;36m1\u001b[0m\u001b[0;34m)\u001b[0m\u001b[0;34m\u001b[0m\u001b[0;34m\u001b[0m\u001b[0m\n\u001b[1;32m      5\u001b[0m \u001b[0mp_b3\u001b[0m \u001b[0;34m=\u001b[0m \u001b[0mp_b3\u001b[0m\u001b[0;34m.\u001b[0m\u001b[0msort_values\u001b[0m\u001b[0;34m(\u001b[0m\u001b[0;34m'ct'\u001b[0m\u001b[0;34m,\u001b[0m\u001b[0mascending\u001b[0m\u001b[0;34m=\u001b[0m\u001b[0;32mFalse\u001b[0m\u001b[0;34m)\u001b[0m\u001b[0;34m\u001b[0m\u001b[0;34m\u001b[0m\u001b[0m\n",
      "\u001b[0;31mNameError\u001b[0m: name 'p_b224' is not defined"
     ]
    }
   ],
   "source": [
    "''' Add your code here '''\n",
    "p_b3 = p_b224.copy()\n",
    "p_b3['ct_n'] = p_b3['ct'] / (p_b3['year_max'] - p_b3['year_min'] + 1)\n",
    "p_b3['H5_score_n'] = p_b3['H5_score'] / (p_b3['year_max'] - p_b3['year_min'] + 1)\n",
    "p_b3 = p_b3.sort_values('ct',ascending=False)\n",
    "p_b3['ct_rank'] = np.arange(1,len(p_b3)+1)\n",
    "p_b3 = p_b3.sort_values('H5_score',ascending=False)\n",
    "p_b3['H5_score_rank'] = np.arange(1,len(p_b3)+1)\n",
    "p_b3 = p_b3.sort_values('ct_n',ascending=False)\n",
    "p_b3['ct_n_rank'] = np.arange(1,len(p_b3)+1)\n",
    "p_b3 = p_b3.sort_values('H5_score_n',ascending=False)\n",
    "p_b3['h5_score_n_rank'] = np.arange(1,len(p_b3)+1)\n",
    "p_b3.head(20)"
   ]
  },
  {
   "cell_type": "code",
   "execution_count": 398,
   "metadata": {},
   "outputs": [
    {
     "data": {
      "text/html": [
       "<div>\n",
       "<style scoped>\n",
       "    .dataframe tbody tr th:only-of-type {\n",
       "        vertical-align: middle;\n",
       "    }\n",
       "\n",
       "    .dataframe tbody tr th {\n",
       "        vertical-align: top;\n",
       "    }\n",
       "\n",
       "    .dataframe thead th {\n",
       "        text-align: right;\n",
       "    }\n",
       "</style>\n",
       "<table border=\"1\" class=\"dataframe\">\n",
       "  <thead>\n",
       "    <tr style=\"text-align: right;\">\n",
       "      <th></th>\n",
       "      <th>ct</th>\n",
       "      <th>H5_mean</th>\n",
       "      <th>year_max</th>\n",
       "      <th>year_min</th>\n",
       "      <th>H5_score</th>\n",
       "      <th>ct_n</th>\n",
       "      <th>H5_score_n</th>\n",
       "    </tr>\n",
       "    <tr>\n",
       "      <th>author</th>\n",
       "      <th></th>\n",
       "      <th></th>\n",
       "      <th></th>\n",
       "      <th></th>\n",
       "      <th></th>\n",
       "      <th></th>\n",
       "      <th></th>\n",
       "    </tr>\n",
       "  </thead>\n",
       "  <tbody>\n",
       "    <tr>\n",
       "      <th>\"\"Aaron D'Souza</th>\n",
       "      <td>3</td>\n",
       "      <td>57.333333</td>\n",
       "      <td>2008</td>\n",
       "      <td>2006</td>\n",
       "      <td>172.0</td>\n",
       "      <td>1.0</td>\n",
       "      <td>57.333333</td>\n",
       "    </tr>\n",
       "    <tr>\n",
       "      <th>\"\"Abidalrahman Moh'd</th>\n",
       "      <td>1</td>\n",
       "      <td>45.000000</td>\n",
       "      <td>2016</td>\n",
       "      <td>2016</td>\n",
       "      <td>45.0</td>\n",
       "      <td>1.0</td>\n",
       "      <td>45.000000</td>\n",
       "    </tr>\n",
       "    <tr>\n",
       "      <th>\"\"Alan O'Connor</th>\n",
       "      <td>1</td>\n",
       "      <td>58.000000</td>\n",
       "      <td>2004</td>\n",
       "      <td>2004</td>\n",
       "      <td>58.0</td>\n",
       "      <td>1.0</td>\n",
       "      <td>58.000000</td>\n",
       "    </tr>\n",
       "    <tr>\n",
       "      <th>\"\"Alden D'Souza</th>\n",
       "      <td>1</td>\n",
       "      <td>58.000000</td>\n",
       "      <td>2011</td>\n",
       "      <td>2011</td>\n",
       "      <td>58.0</td>\n",
       "      <td>1.0</td>\n",
       "      <td>58.000000</td>\n",
       "    </tr>\n",
       "    <tr>\n",
       "      <th>\"\"Alexander M. Formal'sky</th>\n",
       "      <td>3</td>\n",
       "      <td>58.000000</td>\n",
       "      <td>1998</td>\n",
       "      <td>1997</td>\n",
       "      <td>174.0</td>\n",
       "      <td>1.5</td>\n",
       "      <td>87.000000</td>\n",
       "    </tr>\n",
       "  </tbody>\n",
       "</table>\n",
       "</div>"
      ],
      "text/plain": [
       "                            ct    H5_mean  year_max  year_min  H5_score  ct_n  \\\n",
       "author                                                                          \n",
       " \"\"Aaron D'Souza             3  57.333333      2008      2006     172.0   1.0   \n",
       " \"\"Abidalrahman Moh'd        1  45.000000      2016      2016      45.0   1.0   \n",
       " \"\"Alan O'Connor             1  58.000000      2004      2004      58.0   1.0   \n",
       " \"\"Alden D'Souza             1  58.000000      2011      2011      58.0   1.0   \n",
       " \"\"Alexander M. Formal'sky   3  58.000000      1998      1997     174.0   1.5   \n",
       "\n",
       "                            H5_score_n  \n",
       "author                                  \n",
       " \"\"Aaron D'Souza             57.333333  \n",
       " \"\"Abidalrahman Moh'd        45.000000  \n",
       " \"\"Alan O'Connor             58.000000  \n",
       " \"\"Alden D'Souza             58.000000  \n",
       " \"\"Alexander M. Formal'sky   87.000000  "
      ]
     },
     "execution_count": 398,
     "metadata": {},
     "output_type": "execute_result"
    }
   ],
   "source": [
    "p_b3.head()"
   ]
  },
  {
   "cell_type": "markdown",
   "metadata": {},
   "source": [
    "## Task C. Trending topics\n",
    "\n",
    "Historically, the field of AI has witnessed research in two broad flavors: “symbolic” (logic, planning, control, etc.) vs. “connectionist” (neural networks, deep learning, Bayesian methods, etc.). Let’s see if we can see how the popularity of these two approaches to AI is reflected in the DBLP data.\n",
    "\n",
    "To this end, construct two dataframes: ``symbolic`` and ``connectionist``. ``symbolic`` is your paper-centric dataframe from part A1 filtered down to those papers whose titles contain at least one of the following words (not differentiating between upper and lower case letters): “logic”, “planning”, “control”; ``connectionist`` is a dataframe constructed in a similar manner, but with the words “deep”, “learning”, “feature”, “bayesian”. Plot the number of papers per year for ``symbolic`` and ``connectionist`` separately (i.e., 2 plots).\n",
    "1. Describe the trends you observe. Based on these plots alone, what might one conclude about the popularity of the two approaches to AI?\n",
    "2. Moving beyond these plots, what do you, as a careful data scientist, conclude about the popularity of symbolic vs. connectionist AI? Corroborate your reasoning with further plots.\n",
    "\n",
    "_Note: You could use the text handling utilities below to clean the text in the paper titles._"
   ]
  },
  {
   "cell_type": "code",
   "execution_count": 16,
   "metadata": {},
   "outputs": [],
   "source": [
    "# Text handling utilities\n",
    "from string import punctuation\n",
    "stopwords_list = open('data/stopwords.txt', 'r').readlines()\n",
    "stopwords_list = [x.strip() for x in stopwords_list]\n",
    "def stopword_remover(text):\n",
    "    text_list = text.split()\n",
    "    text_list = [x for x in text_list if x not in stopwords_list]\n",
    "    return ' '.join(text_list)\n",
    "def lowercase_all(text):\n",
    "    return text.lower()\n",
    "def remove_punct(text):\n",
    "    return ''.join([ch for ch in text if ch not in punctuation])"
   ]
  },
  {
   "cell_type": "code",
   "execution_count": 17,
   "metadata": {},
   "outputs": [],
   "source": [
    "''' Add your code here '''\n",
    "p_c1 = p_a334.copy()\n",
    "p_c1.title = p_c1.title.apply(stopword_remover).apply(lowercase_all).apply(remove_punct)"
   ]
  },
  {
   "cell_type": "code",
   "execution_count": 18,
   "metadata": {},
   "outputs": [
    {
     "data": {
      "text/plain": [
       "[<matplotlib.lines.Line2D at 0x7f341ec95b00>]"
      ]
     },
     "execution_count": 18,
     "metadata": {},
     "output_type": "execute_result"
    },
    {
     "data": {
      "image/png": "[encoded data removed]",
      "text/plain": [
       "<Figure size 432x288 with 1 Axes>"
      ]
     },
     "metadata": {
      "needs_background": "light"
     },
     "output_type": "display_data"
    }
   ],
   "source": [
    "words_symbolic = ['logic', 'planning', 'control']\n",
    "''' Add your code here '''\n",
    "p_c2 = p_c1[p_c1['title'].str.contains('|'.join(words_symbolic))]\n",
    "p_c22 = p_c2.groupby('year').count()\n",
    "plt.plot(p_c22.index.str[-2:],p_c22.title)"
   ]
  },
  {
   "cell_type": "code",
   "execution_count": 21,
   "metadata": {},
   "outputs": [
    {
     "data": {
      "text/html": [
       "<div>\n",
       "<style scoped>\n",
       "    .dataframe tbody tr th:only-of-type {\n",
       "        vertical-align: middle;\n",
       "    }\n",
       "\n",
       "    .dataframe tbody tr th {\n",
       "        vertical-align: top;\n",
       "    }\n",
       "\n",
       "    .dataframe thead th {\n",
       "        text-align: right;\n",
       "    }\n",
       "</style>\n",
       "<table border=\"1\" class=\"dataframe\">\n",
       "  <thead>\n",
       "    <tr style=\"text-align: right;\">\n",
       "      <th></th>\n",
       "      <th>id</th>\n",
       "      <th>authors</th>\n",
       "      <th>year</th>\n",
       "      <th>title</th>\n",
       "      <th>conference</th>\n",
       "    </tr>\n",
       "  </thead>\n",
       "  <tbody>\n",
       "    <tr>\n",
       "      <th>2049382</th>\n",
       "      <td>conf/iccv/KinoshitaL98</td>\n",
       "      <td>['Keisuke Kinoshita', 'Michael Lindenbaum']</td>\n",
       "      <td>1998</td>\n",
       "      <td>robotic control partial visual information</td>\n",
       "      <td>iccv</td>\n",
       "    </tr>\n",
       "    <tr>\n",
       "      <th>2049444</th>\n",
       "      <td>conf/iccv/MartinFTM01</td>\n",
       "      <td>['David R. Martin 0001', 'Charless C. Fowlkes'...</td>\n",
       "      <td>2001</td>\n",
       "      <td>a database human segmented natural images appl...</td>\n",
       "      <td>iccv</td>\n",
       "    </tr>\n",
       "    <tr>\n",
       "      <th>2049644</th>\n",
       "      <td>conf/iccv/VemuriG98</td>\n",
       "      <td>['Baba C. Vemuri', 'Yanlin Guo']</td>\n",
       "      <td>1998</td>\n",
       "      <td>snake pedals geometric models physicsbased con...</td>\n",
       "      <td>iccv</td>\n",
       "    </tr>\n",
       "    <tr>\n",
       "      <th>2049682</th>\n",
       "      <td>conf/iccv/LobatonVAB11</td>\n",
       "      <td>['Edgar J. Lobaton', 'Ramanarayan Vasudevan', ...</td>\n",
       "      <td>2011</td>\n",
       "      <td>robust topological features deformation invari...</td>\n",
       "      <td>iccv</td>\n",
       "    </tr>\n",
       "    <tr>\n",
       "      <th>2049687</th>\n",
       "      <td>conf/iccv/WatanabeHYNY01</td>\n",
       "      <td>['Hiroki Watanabe', 'Hitoshi Hongo', 'Mamoru Y...</td>\n",
       "      <td>2001</td>\n",
       "      <td>control home appliances using face hand sign r...</td>\n",
       "      <td>iccv</td>\n",
       "    </tr>\n",
       "  </tbody>\n",
       "</table>\n",
       "</div>"
      ],
      "text/plain": [
       "                               id  \\\n",
       "2049382    conf/iccv/KinoshitaL98   \n",
       "2049444     conf/iccv/MartinFTM01   \n",
       "2049644       conf/iccv/VemuriG98   \n",
       "2049682    conf/iccv/LobatonVAB11   \n",
       "2049687  conf/iccv/WatanabeHYNY01   \n",
       "\n",
       "                                                   authors  year  \\\n",
       "2049382        ['Keisuke Kinoshita', 'Michael Lindenbaum']  1998   \n",
       "2049444  ['David R. Martin 0001', 'Charless C. Fowlkes'...  2001   \n",
       "2049644                   ['Baba C. Vemuri', 'Yanlin Guo']  1998   \n",
       "2049682  ['Edgar J. Lobaton', 'Ramanarayan Vasudevan', ...  2011   \n",
       "2049687  ['Hiroki Watanabe', 'Hitoshi Hongo', 'Mamoru Y...  2001   \n",
       "\n",
       "                                                     title conference  \n",
       "2049382         robotic control partial visual information       iccv  \n",
       "2049444  a database human segmented natural images appl...       iccv  \n",
       "2049644  snake pedals geometric models physicsbased con...       iccv  \n",
       "2049682  robust topological features deformation invari...       iccv  \n",
       "2049687  control home appliances using face hand sign r...       iccv  "
      ]
     },
     "execution_count": 21,
     "metadata": {},
     "output_type": "execute_result"
    }
   ],
   "source": [
    "p_c2.head()"
   ]
  },
  {
   "cell_type": "code",
   "execution_count": 19,
   "metadata": {},
   "outputs": [
    {
     "data": {
      "text/plain": [
       "[<matplotlib.lines.Line2D at 0x7f341edeba90>]"
      ]
     },
     "execution_count": 19,
     "metadata": {},
     "output_type": "execute_result"
    },
    {
     "data": {
      "image/png": "[encoded data removed]",
      "text/plain": [
       "<Figure size 432x288 with 1 Axes>"
      ]
     },
     "metadata": {
      "needs_background": "light"
     },
     "output_type": "display_data"
    }
   ],
   "source": [
    "words_connectionist = ['deep', 'learning', 'feature', 'bayesian']\n",
    "''' Add your code here '''\n",
    "p_c3 = p_c1[p_c1['title'].str.contains('|'.join(words_connectionist))]\n",
    "p_c32 = p_c3.groupby('year').count()\n",
    "plt.plot(p_c32.index.str[-2:],p_c32.title)"
   ]
  },
  {
   "cell_type": "code",
   "execution_count": 94,
   "metadata": {},
   "outputs": [
    {
     "data": {
      "image/png": "[encoded data removed]",
      "text/plain": [
       "<Figure size 432x288 with 1 Axes>"
      ]
     },
     "metadata": {
      "needs_background": "light"
     },
     "output_type": "display_data"
    }
   ],
   "source": [
    "plt.plot(p_c22.index.str[-2:],p_c22.title, label = 'Symbolic')\n",
    "plt.plot(p_c32.index.str[-2:],p_c32.title, label = 'Connectionist')\n",
    "plt.ylim(0, 500) \n",
    "plt.title('Compareing symbolic with connectionist', fontsize = 11)\n",
    "plt.xlabel('year', fontsize = 11)\n",
    "plt.ylabel('num_papers', fontsize = 11)\n",
    "plt.tick_params(labelsize=11)\n",
    "plt.grid(True)\n",
    "plt.legend(loc = 'upper left')\n",
    "plt.xticks(rotation=90)\n",
    "plt.show()"
   ]
  },
  {
   "cell_type": "code",
   "execution_count": null,
   "metadata": {},
   "outputs": [],
   "source": []
  }
 ],
 "metadata": {
  "colab": {
   "collapsed_sections": [],
   "name": "Homework 1.ipynb",
   "provenance": []
  },
  "kernelspec": {
   "display_name": "Python 3",
   "language": "python",
   "name": "python3"
  },
  "language_info": {
   "codemirror_mode": {
    "name": "ipython",
    "version": 3
   },
   "file_extension": ".py",
   "mimetype": "text/x-python",
   "name": "python",
   "nbconvert_exporter": "python",
   "pygments_lexer": "ipython3",
   "version": "3.7.3"
  },
  "toc": {
   "base_numbering": 1,
   "nav_menu": {},
   "number_sections": false,
   "sideBar": true,
   "skip_h1_title": true,
   "title_cell": "Table of Contents",
   "title_sidebar": "Contents",
   "toc_cell": false,
   "toc_position": {},
   "toc_section_display": true,
   "toc_window_display": false
  }
 },
 "nbformat": 4,
 "nbformat_minor": 4
}
